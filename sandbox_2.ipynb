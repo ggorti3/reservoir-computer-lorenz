{
 "cells": [
  {
   "cell_type": "code",
   "execution_count": null,
   "metadata": {},
   "outputs": [],
   "source": [
    "import numpy as np\n",
    "import torch\n",
    "import torch.nn as nn\n",
    "\n",
    "from utils import lin_reg, sigmoid, relu, correlation_distance, random_combo, random_partition\n",
    "from reservoirless_computer import ReservoirlessComputer\n",
    "from convolutional_RLC import CRLC, KS_to_torch, predict\n",
    "\n",
    "from data import get_lorenz_data, get_KS_data\n",
    "from visualization import compare, plot_poincare, plot_images, plot_correlations"
   ]
  },
  {
   "cell_type": "code",
   "execution_count": null,
   "metadata": {},
   "outputs": [],
   "source": [
    "dt = 0.02\n",
    "padding = 0\n",
    "sub_length = 3\n",
    "n = 400\n",
    "\n",
    "train_data, val_data = get_lorenz_data(tf=250, dt=dt)\n",
    "t_grid = np.linspace(0, val_data.shape[0] * dt, val_data.shape[0])\n",
    "\n",
    "training_traj, target = KS_to_torch(train_data, padding, sub_length)"
   ]
  },
  {
   "cell_type": "code",
   "execution_count": null,
   "metadata": {},
   "outputs": [],
   "source": [
    "model_1 = ReservoirlessComputer(dim_system=3, dim_reservoir=400, sigma=0.1)\n",
    "combo = model_1.r_idx_partition[1]\n",
    "W_in = model_1.W_in\n",
    "\n",
    "\n",
    "model_2 = CRLC(n, sub_length, padding, sigma=0.1)\n",
    "model_2.combo = combo\n",
    "model_2.conv.weight.data = torch.tensor(W_in, dtype=torch.double).unsqueeze(1)"
   ]
  },
  {
   "cell_type": "code",
   "execution_count": null,
   "metadata": {},
   "outputs": [],
   "source": [
    "R_1 = model_1.train(train_data)\n",
    "print(R_1.shape)\n",
    "print(R_1)\n",
    "#predicted = model_1.predict(val_data.shape[0])\n",
    "print(lin_reg(R_1, train_data))\n",
    "#compare(predicted, val_data, t_grid)"
   ]
  },
  {
   "cell_type": "code",
   "execution_count": null,
   "metadata": {},
   "outputs": [],
   "source": [
    "model_2.generate_r_states(training_traj)\n",
    "#print(model_2.r_state) # passes test\n",
    "R_2 = model_2.training_states.cpu().numpy().transpose().copy()\n",
    "print(R_2.shape)\n",
    "print(R_2)\n",
    "W_out = lin_reg(R_2, train_data)\n",
    "print(W_out)\n",
    "# model_2.train_normal_eq(target)\n",
    "# model_2.linear.weight.data = torch.tensor(model_1.W_out, dtype=torch.float)\n",
    "# predicted = predict(model_2, val_data.shape[0])\n",
    "# compare(predicted, val_data, t_grid)"
   ]
  },
  {
   "cell_type": "code",
   "execution_count": null,
   "metadata": {},
   "outputs": [],
   "source": [
    "print(np.sum(np.abs(R_1 - R_2) > 0.000001))"
   ]
  },
  {
   "cell_type": "code",
   "execution_count": null,
   "metadata": {},
   "outputs": [],
   "source": []
  }
 ],
 "metadata": {
  "kernelspec": {
   "display_name": "Python 3",
   "language": "python",
   "name": "python3"
  },
  "language_info": {
   "codemirror_mode": {
    "name": "ipython",
    "version": 3
   },
   "file_extension": ".py",
   "mimetype": "text/x-python",
   "name": "python",
   "nbconvert_exporter": "python",
   "pygments_lexer": "ipython3",
   "version": "3.7.2"
  }
 },
 "nbformat": 4,
 "nbformat_minor": 2
}
