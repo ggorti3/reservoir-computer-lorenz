{
 "cells": [
  {
   "cell_type": "code",
   "execution_count": null,
   "metadata": {},
   "outputs": [],
   "source": [
    "import numpy as np\n",
    "import torch\n",
    "import torch.nn as nn\n",
    "from utils import random_combo, lin_reg"
   ]
  },
  {
   "cell_type": "code",
   "execution_count": null,
   "metadata": {},
   "outputs": [],
   "source": [
    "test_tensor = 0.1 * torch.stack([torch.arange(10, dtype=torch.float), 10 + torch.arange(10, dtype=torch.float)])\n",
    "print(test_tensor.shape)\n",
    "print(test_tensor)\n",
    "test_tensor = torch.cat([test_tensor[:, test_tensor.shape[1] - 1:], test_tensor, test_tensor[:, :1]], dim=1).unsqueeze(1)\n",
    "print(test_tensor.shape)\n",
    "print(test_tensor)\n",
    "\n",
    "target = test_tensor[:, :, 1:11].reshape((-1, 2))\n",
    "print(target.shape)\n",
    "print(target)"
   ]
  },
  {
   "cell_type": "code",
   "execution_count": null,
   "metadata": {},
   "outputs": [],
   "source": [
    "conv = nn.Conv1d(1, 3, 4, stride=2, bias=False)\n",
    "kernel = 0.1 * torch.stack([torch.arange(4,dtype=torch.float), 4 + torch.arange(4,dtype=torch.float), 8 + torch.arange(4,dtype=torch.float)]).unsqueeze(1)\n",
    "conv.weight.data = kernel\n",
    "print(kernel.shape)\n",
    "print(kernel)\n",
    "\n",
    "linear = nn.Linear(3, 2, bias=False)\n",
    "\n",
    "\n",
    "sig = nn.Sigmoid()\n",
    "combo = random_combo(3, 3//2)\n",
    "print(combo)\n",
    "def activation(x):\n",
    "    x = sig(x)\n",
    "    x[... , combo] = x[... , combo] ** 2\n",
    "    return x"
   ]
  },
  {
   "cell_type": "code",
   "execution_count": null,
   "metadata": {},
   "outputs": [],
   "source": [
    "out = conv(test_tensor)\n",
    "print(out.shape)\n",
    "print(out)\n",
    "out = out.transpose(1, 2)\n",
    "print(out.shape)\n",
    "print(out)\n",
    "out = out.reshape(5 * 2, 3)\n",
    "print(out.shape)\n",
    "print(out)\n",
    "out = activation(out)\n",
    "print(out.shape)\n",
    "print(out)"
   ]
  },
  {
   "cell_type": "code",
   "execution_count": null,
   "metadata": {},
   "outputs": [],
   "source": [
    "R = torch.cat([torch.zeros(5, 3), out[:out.shape[0] - 5]], dim=0)\n",
    "print(R.shape)\n",
    "print(R)\n",
    "\n",
    "r_state = out[out.shape[0] - 5:]\n",
    "print(r_state.shape)\n",
    "print(r_state)"
   ]
  },
  {
   "cell_type": "code",
   "execution_count": null,
   "metadata": {},
   "outputs": [],
   "source": [
    "U = target.cpu().numpy()\n",
    "R_numpy = R.detach().cpu().numpy().transpose()\n",
    "W_out = lin_reg(R_numpy, U)\n",
    "print(W_out)\n",
    "\n",
    "linear.weight.data = torch.tensor(W_out, dtype=torch.float)"
   ]
  },
  {
   "cell_type": "code",
   "execution_count": null,
   "metadata": {},
   "outputs": [],
   "source": [
    "pred = linear(r_state)\n",
    "print(pred)\n",
    "print(pred.flatten())"
   ]
  },
  {
   "cell_type": "code",
   "execution_count": null,
   "metadata": {},
   "outputs": [],
   "source": [
    "pred = linear(R[R.shape[0] - 5:])\n",
    "print(pred)\n",
    "print(pred.flatten())"
   ]
  },
  {
   "cell_type": "code",
   "execution_count": null,
   "metadata": {},
   "outputs": [],
   "source": []
  }
 ],
 "metadata": {
  "kernelspec": {
   "display_name": "Python 3",
   "language": "python",
   "name": "python3"
  },
  "language_info": {
   "codemirror_mode": {
    "name": "ipython",
    "version": 3
   },
   "file_extension": ".py",
   "mimetype": "text/x-python",
   "name": "python",
   "nbconvert_exporter": "python",
   "pygments_lexer": "ipython3",
   "version": "3.7.2"
  }
 },
 "nbformat": 4,
 "nbformat_minor": 2
}
